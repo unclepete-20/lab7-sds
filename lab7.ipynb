{
  "nbformat": 4,
  "nbformat_minor": 0,
  "metadata": {
    "colab": {
      "provenance": [],
      "gpuType": "T4",
      "mount_file_id": "1h6IRf_iN5Ha6CERJVe_A5MYtdwIXr6xH",
      "authorship_tag": "ABX9TyPzAf/j+bl8w45QvwHBdHzZ",
      "include_colab_link": true
    },
    "kernelspec": {
      "name": "python3",
      "display_name": "Python 3"
    },
    "language_info": {
      "name": "python"
    },
    "accelerator": "GPU",
    "widgets": {
      "application/vnd.jupyter.widget-state+json": {
        "4e4527d1a26a45c59c2d921e9e7e8726": {
          "model_module": "@jupyter-widgets/controls",
          "model_name": "HBoxModel",
          "model_module_version": "1.5.0",
          "state": {
            "_dom_classes": [],
            "_model_module": "@jupyter-widgets/controls",
            "_model_module_version": "1.5.0",
            "_model_name": "HBoxModel",
            "_view_count": null,
            "_view_module": "@jupyter-widgets/controls",
            "_view_module_version": "1.5.0",
            "_view_name": "HBoxView",
            "box_style": "",
            "children": [
              "IPY_MODEL_da97e97bce9647eb8a334d9e33d6706c",
              "IPY_MODEL_00ae9926ee34491bbbd7075864eb8327",
              "IPY_MODEL_292977d0dbd04752b060ce77c7d61ddd"
            ],
            "layout": "IPY_MODEL_63e128fc36ef464ca5768c8703359920"
          }
        },
        "da97e97bce9647eb8a334d9e33d6706c": {
          "model_module": "@jupyter-widgets/controls",
          "model_name": "HTMLModel",
          "model_module_version": "1.5.0",
          "state": {
            "_dom_classes": [],
            "_model_module": "@jupyter-widgets/controls",
            "_model_module_version": "1.5.0",
            "_model_name": "HTMLModel",
            "_view_count": null,
            "_view_module": "@jupyter-widgets/controls",
            "_view_module_version": "1.5.0",
            "_view_name": "HTMLView",
            "description": "",
            "description_tooltip": null,
            "layout": "IPY_MODEL_0e88f0e3a8b84e15ba9e0de30c41a7ee",
            "placeholder": "​",
            "style": "IPY_MODEL_5ec5a9ebc5af447b86403e8445ad92f6",
            "value": "DeepFool: 100%"
          }
        },
        "00ae9926ee34491bbbd7075864eb8327": {
          "model_module": "@jupyter-widgets/controls",
          "model_name": "FloatProgressModel",
          "model_module_version": "1.5.0",
          "state": {
            "_dom_classes": [],
            "_model_module": "@jupyter-widgets/controls",
            "_model_module_version": "1.5.0",
            "_model_name": "FloatProgressModel",
            "_view_count": null,
            "_view_module": "@jupyter-widgets/controls",
            "_view_module_version": "1.5.0",
            "_view_name": "ProgressView",
            "bar_style": "success",
            "description": "",
            "description_tooltip": null,
            "layout": "IPY_MODEL_b0145432cd1d4b35b8fdb497a6dbe669",
            "max": 1,
            "min": 0,
            "orientation": "horizontal",
            "style": "IPY_MODEL_7d09f3fc16ff47e1b632c3749f1a57ac",
            "value": 1
          }
        },
        "292977d0dbd04752b060ce77c7d61ddd": {
          "model_module": "@jupyter-widgets/controls",
          "model_name": "HTMLModel",
          "model_module_version": "1.5.0",
          "state": {
            "_dom_classes": [],
            "_model_module": "@jupyter-widgets/controls",
            "_model_module_version": "1.5.0",
            "_model_name": "HTMLModel",
            "_view_count": null,
            "_view_module": "@jupyter-widgets/controls",
            "_view_module_version": "1.5.0",
            "_view_name": "HTMLView",
            "description": "",
            "description_tooltip": null,
            "layout": "IPY_MODEL_9818834f953a4f64a20ca6f1e402abd8",
            "placeholder": "​",
            "style": "IPY_MODEL_1b28ba474a3b4b88b260f0a30589012b",
            "value": " 1/1 [00:03&lt;00:00,  3.21s/it]"
          }
        },
        "63e128fc36ef464ca5768c8703359920": {
          "model_module": "@jupyter-widgets/base",
          "model_name": "LayoutModel",
          "model_module_version": "1.2.0",
          "state": {
            "_model_module": "@jupyter-widgets/base",
            "_model_module_version": "1.2.0",
            "_model_name": "LayoutModel",
            "_view_count": null,
            "_view_module": "@jupyter-widgets/base",
            "_view_module_version": "1.2.0",
            "_view_name": "LayoutView",
            "align_content": null,
            "align_items": null,
            "align_self": null,
            "border": null,
            "bottom": null,
            "display": null,
            "flex": null,
            "flex_flow": null,
            "grid_area": null,
            "grid_auto_columns": null,
            "grid_auto_flow": null,
            "grid_auto_rows": null,
            "grid_column": null,
            "grid_gap": null,
            "grid_row": null,
            "grid_template_areas": null,
            "grid_template_columns": null,
            "grid_template_rows": null,
            "height": null,
            "justify_content": null,
            "justify_items": null,
            "left": null,
            "margin": null,
            "max_height": null,
            "max_width": null,
            "min_height": null,
            "min_width": null,
            "object_fit": null,
            "object_position": null,
            "order": null,
            "overflow": null,
            "overflow_x": null,
            "overflow_y": null,
            "padding": null,
            "right": null,
            "top": null,
            "visibility": null,
            "width": null
          }
        },
        "0e88f0e3a8b84e15ba9e0de30c41a7ee": {
          "model_module": "@jupyter-widgets/base",
          "model_name": "LayoutModel",
          "model_module_version": "1.2.0",
          "state": {
            "_model_module": "@jupyter-widgets/base",
            "_model_module_version": "1.2.0",
            "_model_name": "LayoutModel",
            "_view_count": null,
            "_view_module": "@jupyter-widgets/base",
            "_view_module_version": "1.2.0",
            "_view_name": "LayoutView",
            "align_content": null,
            "align_items": null,
            "align_self": null,
            "border": null,
            "bottom": null,
            "display": null,
            "flex": null,
            "flex_flow": null,
            "grid_area": null,
            "grid_auto_columns": null,
            "grid_auto_flow": null,
            "grid_auto_rows": null,
            "grid_column": null,
            "grid_gap": null,
            "grid_row": null,
            "grid_template_areas": null,
            "grid_template_columns": null,
            "grid_template_rows": null,
            "height": null,
            "justify_content": null,
            "justify_items": null,
            "left": null,
            "margin": null,
            "max_height": null,
            "max_width": null,
            "min_height": null,
            "min_width": null,
            "object_fit": null,
            "object_position": null,
            "order": null,
            "overflow": null,
            "overflow_x": null,
            "overflow_y": null,
            "padding": null,
            "right": null,
            "top": null,
            "visibility": null,
            "width": null
          }
        },
        "5ec5a9ebc5af447b86403e8445ad92f6": {
          "model_module": "@jupyter-widgets/controls",
          "model_name": "DescriptionStyleModel",
          "model_module_version": "1.5.0",
          "state": {
            "_model_module": "@jupyter-widgets/controls",
            "_model_module_version": "1.5.0",
            "_model_name": "DescriptionStyleModel",
            "_view_count": null,
            "_view_module": "@jupyter-widgets/base",
            "_view_module_version": "1.2.0",
            "_view_name": "StyleView",
            "description_width": ""
          }
        },
        "b0145432cd1d4b35b8fdb497a6dbe669": {
          "model_module": "@jupyter-widgets/base",
          "model_name": "LayoutModel",
          "model_module_version": "1.2.0",
          "state": {
            "_model_module": "@jupyter-widgets/base",
            "_model_module_version": "1.2.0",
            "_model_name": "LayoutModel",
            "_view_count": null,
            "_view_module": "@jupyter-widgets/base",
            "_view_module_version": "1.2.0",
            "_view_name": "LayoutView",
            "align_content": null,
            "align_items": null,
            "align_self": null,
            "border": null,
            "bottom": null,
            "display": null,
            "flex": null,
            "flex_flow": null,
            "grid_area": null,
            "grid_auto_columns": null,
            "grid_auto_flow": null,
            "grid_auto_rows": null,
            "grid_column": null,
            "grid_gap": null,
            "grid_row": null,
            "grid_template_areas": null,
            "grid_template_columns": null,
            "grid_template_rows": null,
            "height": null,
            "justify_content": null,
            "justify_items": null,
            "left": null,
            "margin": null,
            "max_height": null,
            "max_width": null,
            "min_height": null,
            "min_width": null,
            "object_fit": null,
            "object_position": null,
            "order": null,
            "overflow": null,
            "overflow_x": null,
            "overflow_y": null,
            "padding": null,
            "right": null,
            "top": null,
            "visibility": null,
            "width": null
          }
        },
        "7d09f3fc16ff47e1b632c3749f1a57ac": {
          "model_module": "@jupyter-widgets/controls",
          "model_name": "ProgressStyleModel",
          "model_module_version": "1.5.0",
          "state": {
            "_model_module": "@jupyter-widgets/controls",
            "_model_module_version": "1.5.0",
            "_model_name": "ProgressStyleModel",
            "_view_count": null,
            "_view_module": "@jupyter-widgets/base",
            "_view_module_version": "1.2.0",
            "_view_name": "StyleView",
            "bar_color": null,
            "description_width": ""
          }
        },
        "9818834f953a4f64a20ca6f1e402abd8": {
          "model_module": "@jupyter-widgets/base",
          "model_name": "LayoutModel",
          "model_module_version": "1.2.0",
          "state": {
            "_model_module": "@jupyter-widgets/base",
            "_model_module_version": "1.2.0",
            "_model_name": "LayoutModel",
            "_view_count": null,
            "_view_module": "@jupyter-widgets/base",
            "_view_module_version": "1.2.0",
            "_view_name": "LayoutView",
            "align_content": null,
            "align_items": null,
            "align_self": null,
            "border": null,
            "bottom": null,
            "display": null,
            "flex": null,
            "flex_flow": null,
            "grid_area": null,
            "grid_auto_columns": null,
            "grid_auto_flow": null,
            "grid_auto_rows": null,
            "grid_column": null,
            "grid_gap": null,
            "grid_row": null,
            "grid_template_areas": null,
            "grid_template_columns": null,
            "grid_template_rows": null,
            "height": null,
            "justify_content": null,
            "justify_items": null,
            "left": null,
            "margin": null,
            "max_height": null,
            "max_width": null,
            "min_height": null,
            "min_width": null,
            "object_fit": null,
            "object_position": null,
            "order": null,
            "overflow": null,
            "overflow_x": null,
            "overflow_y": null,
            "padding": null,
            "right": null,
            "top": null,
            "visibility": null,
            "width": null
          }
        },
        "1b28ba474a3b4b88b260f0a30589012b": {
          "model_module": "@jupyter-widgets/controls",
          "model_name": "DescriptionStyleModel",
          "model_module_version": "1.5.0",
          "state": {
            "_model_module": "@jupyter-widgets/controls",
            "_model_module_version": "1.5.0",
            "_model_name": "DescriptionStyleModel",
            "_view_count": null,
            "_view_module": "@jupyter-widgets/base",
            "_view_module_version": "1.2.0",
            "_view_name": "StyleView",
            "description_width": ""
          }
        }
      }
    }
  },
  "cells": [
    {
      "cell_type": "markdown",
      "metadata": {
        "id": "view-in-github",
        "colab_type": "text"
      },
      "source": [
        "<a href=\"https://colab.research.google.com/github/unclepete-20/lab7-sds/blob/main/lab7.ipynb\" target=\"_parent\"><img src=\"https://colab.research.google.com/assets/colab-badge.svg\" alt=\"Open In Colab\"/></a>"
      ]
    },
    {
      "cell_type": "markdown",
      "source": [
        "# Laboratorio 7 - Ataques a Modelos de Deep Learning\n",
        "\n",
        "## Pedro Arriola (20188)"
      ],
      "metadata": {
        "id": "yTFD5F_JTUuI"
      }
    },
    {
      "cell_type": "markdown",
      "source": [
        "## Preámbulo\n",
        "\n",
        "La clasificación de malware mediante técnicas de aprendizaje automático y deep learning es una tarea compleja y de gran relevancia en el ámbito de la ciberseguridad. Existen dos enfoques principales para el análisis de malware: análisis estático y análisis dinámico.\n",
        "\n",
        "- **Análisis estático:** Se caracteriza por su rapidez, ya que no requiere ejecutar el malware. Su principal desafío es la correcta identificación de llamadas sospechosas a DLLs y APIs sin la ejecución del código.\n",
        "- **Análisis dinámico:** Permite un estudio detallado del comportamiento del malware mediante su ejecución en un entorno controlado, pero es más lento y requiere más recursos.\n",
        "\n",
        "Utilizando técnicas de visualización avanzadas, se pueden convertir los archivos binarios de malware en imágenes, permitiendo el uso de redes neuronales convolucionales (CNNs), típicamente empleadas en la clasificación de imágenes. Esto ofrece una aproximación interesante y visual al problema del malware, como se sugiere en el artículo \"Malware Images: Visualization and Automatic Classification\".\n",
        "\n",
        "### Seguridad en modelos de data science\n",
        "\n",
        "Los modelos de ML y DL son susceptibles a varios tipos de ciberataques:\n",
        "\n",
        "- **Ataques de extracción:** Donde se intenta duplicar la funcionalidad del modelo a través de acceso limitado, como las API.\n",
        "- **Ataques de inferencia:** Permiten al atacante descubrir datos sobre los conjuntos de entrenamiento o inferir características de los datos privados utilizados en el modelo.\n",
        "- **Ataques de evasión y envenenamiento:** Tienen el objetivo de engañar al modelo para que haga clasificaciones incorrectas o para insertar vulnerabilidades específicas.\n",
        "\n",
        "En este laboratorio, nos centraremos en construir un modelo de clasificación robusto y en evaluar su vulnerabilidad ante estos ataques utilizando herramientas avanzadas como el Adversarial Robustness Toolbox."
      ],
      "metadata": {
        "id": "uHKTVWnqTgpI"
      }
    },
    {
      "cell_type": "markdown",
      "source": [
        "### Preparación y Pre-procesamiento de Datos\n",
        "\n",
        "#### Carga y Análisis del Dataset\n",
        "\n",
        "Utilizaremos el framework TensorFlow junto con Keras para cargar y pre-procesar las imágenes de malware. El dataset está organizado en distintas carpetas correspondientes a cada familia de malware y contiene imágenes en formato PNG. El objetivo inicial es cargar estas imágenes y analizar la distribución de las mismas entre las distintas familias.\n",
        "\n",
        "1. **Carga del Dataset**: Utilizamos `ImageDataGenerator` de Keras para facilitar la carga y el pre-procesamiento de imágenes. Este herramienta también facilitará la augmentación de datos si fuese necesario más adelante.\n",
        "\n",
        "2. **Análisis de Datos**: Es crucial entender la cantidad de datos disponibles por cada familia de malware. Familias con muy pocas imágenes podrían no ser adecuadas para el entrenamiento del modelo, ya que podrían no generalizar bien o incluso causar overfitting.\n",
        "\n",
        "#### Visualización de Datos\n",
        "\n",
        "Es importante visualizar las imágenes del dataset para tener una mejor comprensión de los datos con los que estamos trabajando. La visualización ayuda a detectar si hay algún problema obvio con las imágenes, como errores en la etiquetación o inconsistencias en los datos."
      ],
      "metadata": {
        "id": "AmhCk_prVCVn"
      }
    },
    {
      "cell_type": "code",
      "source": [
        "import tensorflow as tf\n",
        "\n",
        "# Comprobar dispositivos disponibles\n",
        "gpus = tf.config.list_physical_devices('GPU')\n",
        "if gpus:\n",
        "    try:\n",
        "        # Configurar TensorFlow para usar la GPU\n",
        "        tf.config.experimental.set_memory_growth(gpus[0], True)\n",
        "        print(f\"Using GPU: {gpus[0].name}\")\n",
        "    except RuntimeError as e:\n",
        "        # Error en caso de que la configuración de la GPU falle\n",
        "        print(e)\n",
        "else:\n",
        "    print(\"No GPU found, using CPU instead.\")"
      ],
      "metadata": {
        "colab": {
          "base_uri": "https://localhost:8080/"
        },
        "id": "GHL_x8l1rDDt",
        "outputId": "d954179c-3d36-49f3-be51-69378a314bd8"
      },
      "execution_count": 5,
      "outputs": [
        {
          "output_type": "stream",
          "name": "stdout",
          "text": [
            "Using GPU: /physical_device:GPU:0\n"
          ]
        }
      ]
    },
    {
      "cell_type": "code",
      "execution_count": 6,
      "metadata": {
        "id": "nSTi4VxQSVIF",
        "colab": {
          "base_uri": "https://localhost:8080/",
          "height": 120
        },
        "outputId": "11b10e21-d044-4e2f-aee3-eb2b3cdd77cd"
      },
      "outputs": [
        {
          "output_type": "stream",
          "name": "stdout",
          "text": [
            "Found 9339 images belonging to 25 classes.\n",
            "{'Adialer.C': 0, 'Agent.FYI': 1, 'Allaple.A': 2, 'Allaple.L': 3, 'Alueron.gen!J': 4, 'Autorun.K': 5, 'C2LOP.P': 6, 'C2LOP.gen!g': 7, 'Dialplatform.B': 8, 'Dontovo.A': 9, 'Fakerean': 10, 'Instantaccess': 11, 'Lolyda.AA1': 12, 'Lolyda.AA2': 13, 'Lolyda.AA3': 14, 'Lolyda.AT': 15, 'Malex.gen!J': 16, 'Obfuscator.AD': 17, 'Rbot!gen': 18, 'Skintrim.N': 19, 'Swizzor.gen!E': 20, 'Swizzor.gen!I': 21, 'VB.AT': 22, 'Wintrim.BX': 23, 'Yuner.A': 24}\n"
          ]
        },
        {
          "output_type": "display_data",
          "data": {
            "text/plain": [
              "<Figure size 2000x1000 with 25 Axes>"
            ],
            "image/png": "[encoded data removed]"
          },
          "metadata": {}
        }
      ],
      "source": [
        "import os\n",
        "import numpy as np\n",
        "import matplotlib.pyplot as plt\n",
        "from tensorflow.keras.preprocessing import image\n",
        "from tensorflow.keras.preprocessing.image import ImageDataGenerator\n",
        "\n",
        "# Definir la ruta al dataset\n",
        "path = '/content/drive/MyDrive/malimg_paper_dataset_imgs'\n",
        "\n",
        "# Crear un generador de imágenes con reescalado\n",
        "datagen = ImageDataGenerator(rescale=1./255)\n",
        "\n",
        "# Cargar imágenes desde el directorio\n",
        "familias = datagen.flow_from_directory(directory=path, target_size=(64,64), batch_size=10000)\n",
        "\n",
        "# Obtener la información de las clases\n",
        "print(familias.class_indices)\n",
        "\n",
        "# Función generadora que carga imágenes de manera perezosa\n",
        "def lazy_load_images(directory):\n",
        "    for subdir, dirs, files in os.walk(directory):\n",
        "        for file in files:\n",
        "            if file.endswith(\".png\"):\n",
        "                file_path = os.path.join(subdir, file)\n",
        "                img = image.load_img(file_path, target_size=(64, 64))\n",
        "                img_array = image.img_to_array(img)\n",
        "                img_array = np.expand_dims(img_array, axis=0)\n",
        "                img_array = datagen.standardize(img_array)\n",
        "                yield img_array, subdir.split('/')[-1]  # Yield the image and the class/family name\n",
        "\n",
        "# Función para encontrar la primera imagen de cada familia utilizando carga perezosa\n",
        "def find_first_image_of_each_family_lazy(directory):\n",
        "    found = {}\n",
        "    for img_array, family_name in lazy_load_images(directory):\n",
        "        if family_name not in found:\n",
        "            found[family_name] = img_array[0]\n",
        "        if len(found) >= len(os.listdir(directory)):  # Assumes each subdirectory is a family\n",
        "            break\n",
        "    return found\n",
        "\n",
        "# Visualizar una imagen por cada familia\n",
        "def plot_images_lazy(images_info, figsize=(20, 10)):\n",
        "    f = plt.figure(figsize=figsize)\n",
        "    for idx, (family_name, img) in enumerate(images_info.items()):\n",
        "        plt.subplot(1, len(images_info), idx + 1)\n",
        "        plt.imshow(np.uint8(img))\n",
        "        plt.title(family_name)\n",
        "        plt.axis('Off')\n",
        "    plt.show()\n",
        "\n",
        "# Obtener y visualizar la primera imagen de cada familia con carga perezosa\n",
        "images_info = find_first_image_of_each_family_lazy(path)\n",
        "plot_images_lazy(images_info)"
      ]
    },
    {
      "cell_type": "markdown",
      "source": [
        "## Construcción y Entrenamiento del Modelo de Deep Learning\n",
        "\n",
        "### Arquitectura del Modelo\n",
        "\n",
        "El modelo que utilizaremos es una red neuronal convolucional (CNN), diseñada específicamente para el procesamiento y clasificación de imágenes. Aquí está la descripción detallada de cada capa del modelo:\n",
        "\n",
        "- **Capa Conv2D**: La primera capa es una capa convolucional (`Conv2D`) con 32 filtros y un tamaño de kernel de (3x3). La función de activación es 'relu'. Esta capa se encarga de extraer características de bajo nivel (como bordes y texturas) de las imágenes.\n",
        "- **Capa MaxPooling2D**: Sigue una capa de agrupamiento máximo (`MaxPooling2D`) con un tamaño de ventana de (2x2). Esta capa reduce la dimensionalidad espacial de las características entrantes, lo que ayuda a hacer el modelo más eficiente y a reducir el sobreajuste.\n",
        "- **Capas Conv2D adicionales**: Después del primer bloque, el modelo tiene dos capas convolucionales más, cada una seguida de otra capa de agrupamiento máximo. Estas capas aumentan en número de filtros (64 y 128, respectivamente), permitiendo al modelo aprender características más complejas a medida que se profundiza en la red.\n",
        "- **Capa Flatten**: A continuación, la capa `Flatten` transforma el mapa de características 2D resultante de las capas convolucionales en un vector 1D. Esto permite que las características extraídas sean utilizadas por las capas densas siguientes.\n",
        "- **Capa Dense**: La primera capa densa (`Dense`) tiene 128 unidades y utiliza 'relu' como función de activación. Esta capa está diseñada para interpretar las características extraídas por las capas convolucionales.\n",
        "- **Capa Dropout**: Se incluye una capa de `Dropout` con una tasa de 0.5 para reducir el riesgo de sobreajuste. Dropout \"apaga\" aleatoriamente un conjunto de neuronas durante el entrenamiento, lo que ayuda a que el modelo sea más robusto y menos dependiente de caminos específicos.\n",
        "- **Capa de Salida**: Finalmente, la capa de salida tiene tantas unidades como familias de malware hay (25 en este caso) y utiliza la función de activación 'softmax'. Esto permite que el modelo haga una predicción de clase multiclase, asignando probabilidades a cada una de las 25 categorías de malware.\n",
        "\n",
        "### Compilación del Modelo\n",
        "\n",
        "El modelo se compila con el optimizador Adam, que es una extensión del descenso de gradiente estocástico y generalmente funciona bien en la mayoría de las configuraciones. La tasa de aprendizaje inicial está configurada en 0.001. La función de pérdida utilizada es 'categorical_crossentropy', adecuada para problemas de clasificación multiclase. También estamos rastreando la métrica 'accuracy' durante el entrenamiento.\n",
        "\n",
        "### Entrenamiento del Modelo\n",
        "\n",
        "Utilizamos `ImageDataGenerator` para manejar la carga y el preprocesamiento de las imágenes del dataset. Este generador también facilita la división de datos en conjuntos de entrenamiento (70%) y validación (30%). El entrenamiento se lleva a cabo a través de varias épocas, ajustando el número basado en la observación del desempeño del modelo en los datos de entrenamiento y validación para evitar el sobreajuste.\n",
        "\n",
        "### Guardado del Modelo\n",
        "\n",
        "Después del entrenamiento, el modelo se guarda en el formato H5, permitiendo su uso posterior sin la necesidad de reentrenar. Esto es crucial para aplicaciones prácticas donde el modelo puede ser desplegado para la clasificación de malware en diferentes entornos."
      ],
      "metadata": {
        "id": "i5vveRt7qpAB"
      }
    },
    {
      "cell_type": "code",
      "source": [
        "from tensorflow.keras.preprocessing.image import ImageDataGenerator\n",
        "from tensorflow.keras.models import Sequential\n",
        "from tensorflow.keras.layers import Conv2D, MaxPooling2D, Flatten, Dense, Dropout\n",
        "from tensorflow.keras.optimizers import Adam\n",
        "\n",
        "# Definir el path al dataset\n",
        "path = '/content/drive/MyDrive/malimg_paper_dataset_imgs'\n",
        "\n",
        "# Preparar el generador de datos con división para entrenamiento y validación\n",
        "train_datagen = ImageDataGenerator(rescale=1./255, validation_split=0.3)  # 70% entrenamiento, 30% validación\n",
        "\n",
        "# Generador de entrenamiento\n",
        "train_generator = train_datagen.flow_from_directory(\n",
        "    path,\n",
        "    target_size=(64, 64),\n",
        "    batch_size=32,\n",
        "    class_mode='categorical',\n",
        "    subset='training'\n",
        ")\n",
        "\n",
        "# Generador de validación\n",
        "validation_generator = train_datagen.flow_from_directory(\n",
        "    path,\n",
        "    target_size=(64, 64),\n",
        "    batch_size=32,\n",
        "    class_mode='categorical',\n",
        "    subset='validation'\n",
        ")\n",
        "\n",
        "# Construir el modelo\n",
        "model = Sequential([\n",
        "    Conv2D(32, (3, 3), activation='relu', input_shape=(64, 64, 3)),\n",
        "    MaxPooling2D(2, 2),\n",
        "    Conv2D(64, (3, 3), activation='relu'),\n",
        "    MaxPooling2D(2, 2),\n",
        "    Conv2D(128, (3, 3), activation='relu'),\n",
        "    MaxPooling2D(2, 2),\n",
        "    Flatten(),\n",
        "    Dense(128, activation='relu'),\n",
        "    Dropout(0.5),\n",
        "    Dense(25, activation='softmax')  # Asumiendo 25 familias de malware\n",
        "])\n",
        "\n",
        "# Compilar el modelo\n",
        "model.compile(optimizer=Adam(learning_rate=0.001), loss='categorical_crossentropy', metrics=['accuracy'])\n",
        "\n",
        "# Resumen del modelo\n",
        "model.summary()\n",
        "\n",
        "# Entrenamiento del modelo\n",
        "history = model.fit(\n",
        "    train_generator,\n",
        "    steps_per_epoch=train_generator.samples // train_generator.batch_size,\n",
        "    validation_data=validation_generator,\n",
        "    validation_steps=validation_generator.samples // validation_generator.batch_size,\n",
        "    epochs=10\n",
        ")\n",
        "\n",
        "# Guardar el modelo\n",
        "model.save('malware_classification_model.h5')"
      ],
      "metadata": {
        "colab": {
          "base_uri": "https://localhost:8080/"
        },
        "id": "EyzkBnRsqpNn",
        "outputId": "0b352f1f-aeef-4f2b-9c45-93806d7d8061"
      },
      "execution_count": 8,
      "outputs": [
        {
          "output_type": "stream",
          "name": "stdout",
          "text": [
            "Found 6549 images belonging to 25 classes.\n",
            "Found 2790 images belonging to 25 classes.\n",
            "Model: \"sequential_1\"\n",
            "_________________________________________________________________\n",
            " Layer (type)                Output Shape              Param #   \n",
            "=================================================================\n",
            " conv2d_3 (Conv2D)           (None, 62, 62, 32)        896       \n",
            "                                                                 \n",
            " max_pooling2d_3 (MaxPoolin  (None, 31, 31, 32)        0         \n",
            " g2D)                                                            \n",
            "                                                                 \n",
            " conv2d_4 (Conv2D)           (None, 29, 29, 64)        18496     \n",
            "                                                                 \n",
            " max_pooling2d_4 (MaxPoolin  (None, 14, 14, 64)        0         \n",
            " g2D)                                                            \n",
            "                                                                 \n",
            " conv2d_5 (Conv2D)           (None, 12, 12, 128)       73856     \n",
            "                                                                 \n",
            " max_pooling2d_5 (MaxPoolin  (None, 6, 6, 128)         0         \n",
            " g2D)                                                            \n",
            "                                                                 \n",
            " flatten_1 (Flatten)         (None, 4608)              0         \n",
            "                                                                 \n",
            " dense_2 (Dense)             (None, 128)               589952    \n",
            "                                                                 \n",
            " dropout_1 (Dropout)         (None, 128)               0         \n",
            "                                                                 \n",
            " dense_3 (Dense)             (None, 25)                3225      \n",
            "                                                                 \n",
            "=================================================================\n",
            "Total params: 686425 (2.62 MB)\n",
            "Trainable params: 686425 (2.62 MB)\n",
            "Non-trainable params: 0 (0.00 Byte)\n",
            "_________________________________________________________________\n",
            "Epoch 1/10\n",
            "204/204 [==============================] - 57s 267ms/step - loss: 1.7207 - accuracy: 0.4800 - val_loss: 0.8053 - val_accuracy: 0.7654\n",
            "Epoch 2/10\n",
            "204/204 [==============================] - 55s 269ms/step - loss: 0.7557 - accuracy: 0.7708 - val_loss: 0.4052 - val_accuracy: 0.8847\n",
            "Epoch 3/10\n",
            "204/204 [==============================] - 54s 266ms/step - loss: 0.4713 - accuracy: 0.8556 - val_loss: 0.3100 - val_accuracy: 0.9116\n",
            "Epoch 4/10\n",
            "204/204 [==============================] - 47s 233ms/step - loss: 0.3259 - accuracy: 0.8992 - val_loss: 0.2470 - val_accuracy: 0.9325\n",
            "Epoch 5/10\n",
            "204/204 [==============================] - 54s 267ms/step - loss: 0.2776 - accuracy: 0.9121 - val_loss: 0.2161 - val_accuracy: 0.9411\n",
            "Epoch 6/10\n",
            "204/204 [==============================] - 54s 264ms/step - loss: 0.2462 - accuracy: 0.9211 - val_loss: 0.2376 - val_accuracy: 0.9436\n",
            "Epoch 7/10\n",
            "204/204 [==============================] - 54s 267ms/step - loss: 0.1950 - accuracy: 0.9359 - val_loss: 0.2181 - val_accuracy: 0.9465\n",
            "Epoch 8/10\n",
            "204/204 [==============================] - 47s 231ms/step - loss: 0.1968 - accuracy: 0.9345 - val_loss: 0.1860 - val_accuracy: 0.9565\n",
            "Epoch 9/10\n",
            "204/204 [==============================] - 54s 263ms/step - loss: 0.1654 - accuracy: 0.9423 - val_loss: 0.2119 - val_accuracy: 0.9515\n",
            "Epoch 10/10\n",
            "204/204 [==============================] - 46s 227ms/step - loss: 0.1624 - accuracy: 0.9454 - val_loss: 0.1959 - val_accuracy: 0.9544\n"
          ]
        },
        {
          "output_type": "stream",
          "name": "stderr",
          "text": [
            "/usr/local/lib/python3.10/dist-packages/keras/src/engine/training.py:3103: UserWarning: You are saving your model as an HDF5 file via `model.save()`. This file format is considered legacy. We recommend using instead the native Keras format, e.g. `model.save('my_model.keras')`.\n",
            "  saving_api.save_model(\n"
          ]
        }
      ]
    },
    {
      "cell_type": "markdown",
      "source": [
        "## Evaluación del Modelo de Clasificación de Malware\n",
        "\n",
        "Después de entrenar el modelo durante 10 épocas, hemos obtenido las siguientes métricas de rendimiento en la última época:\n",
        "\n",
        "- **Pérdida en Entrenamiento**: 0.1624\n",
        "- **Precisión en Entrenamiento**: 94.54%\n",
        "- **Pérdida en Validación**: 0.1959\n",
        "- **Precisión en Validación**: 95.44%\n",
        "\n",
        "### Interpretación de Resultados\n",
        "\n",
        "Estos resultados son bastante prometedores y sugieren que el modelo está desempeñándose bien. La alta precisión en ambos conjuntos, entrenamiento y validación, indica que el modelo es capaz de generalizar bien a nuevos datos. Esto es crucial para asegurar que el modelo funcionará de manera efectiva en el mundo real, identificando correctamente diferentes familias de malware basado en sus imágenes."
      ],
      "metadata": {
        "id": "fwDZqbzN1NAW"
      }
    },
    {
      "cell_type": "code",
      "source": [
        "# Acceder al historial de entrenamiento\n",
        "history_dict = history.history\n",
        "\n",
        "# Métricas disponibles en el historial\n",
        "print(\"Métricas disponibles: \", history_dict.keys())\n",
        "\n",
        "# Gráficas de pérdida (loss) y precisión (accuracy)\n",
        "loss_values = history_dict['loss']\n",
        "val_loss_values = history_dict['val_loss']\n",
        "epochs = range(1, len(loss_values) + 1)\n",
        "\n",
        "# Gráfica de pérdidas\n",
        "plt.figure(figsize=(12, 6))\n",
        "plt.subplot(1, 2, 1)\n",
        "plt.plot(epochs, loss_values, 'bo', label='Training loss')\n",
        "plt.plot(epochs, val_loss_values, 'b', label='Validation loss')\n",
        "plt.title('Training and validation loss')\n",
        "plt.xlabel('Epochs')\n",
        "plt.ylabel('Loss')\n",
        "plt.legend()\n",
        "\n",
        "# Gráfica de precisión\n",
        "acc_values = history_dict['accuracy']\n",
        "val_acc_values = history_dict['val_accuracy']\n",
        "plt.subplot(1, 2, 2)\n",
        "plt.plot(epochs, acc_values, 'bo', label='Training acc')\n",
        "plt.plot(epochs, val_acc_values, 'b', label='Validation acc')\n",
        "plt.title('Training and validation accuracy')\n",
        "plt.xlabel('Epochs')\n",
        "plt.ylabel('Accuracy')\n",
        "plt.legend()\n",
        "\n",
        "plt.tight_layout()\n",
        "plt.show()"
      ],
      "metadata": {
        "colab": {
          "base_uri": "https://localhost:8080/",
          "height": 447
        },
        "id": "O21QFIUY1NHs",
        "outputId": "47488a28-62d2-4ce3-fcc7-49c304a616a7"
      },
      "execution_count": 9,
      "outputs": [
        {
          "output_type": "stream",
          "name": "stdout",
          "text": [
            "Métricas disponibles:  dict_keys(['loss', 'accuracy', 'val_loss', 'val_accuracy'])\n"
          ]
        },
        {
          "output_type": "display_data",
          "data": {
            "text/plain": [
              "<Figure size 1200x600 with 2 Axes>"
            ],
            "image/png": "[encoded data removed]"
          },
          "metadata": {}
        }
      ]
    },
    {
      "cell_type": "markdown",
      "source": [
        "## Ataque 1: Fast Gradient Sign Method (FGSM)\n",
        "\n",
        "### Descripción del Ataque\n",
        "\n",
        "El método Fast Gradient Sign Method (FGSM) es un tipo de ataque adversario diseñado para engañar a los modelos de deep learning. Este ataque aprovecha el gradiente de la función de pérdida del modelo con respecto a la entrada (imagen) para crear nuevas imágenes que son visualmente similares a las originales pero modificadas de manera sutil y estratégica para engañar al modelo.\n",
        "\n",
        "### Objetivo del Ataque\n",
        "\n",
        "El objetivo de FGSM es modificar la imagen original por medio de la adición de pequeñas perturbaciones (ruido) que resultan en una clasificación incorrecta por parte del modelo. Estas perturbaciones son generadas de manera que maximicen el error de clasificación, basándose en el gradiente de la pérdida con respecto a la entrada.\n",
        "\n",
        "### Implementación\n",
        "\n",
        "Utilizaremos el modelo previamente entrenado y aplicaremos el ataque FGSM utilizando el framework Adversarial Robustness Toolbox (ART). Este ataque intentará inducir errores en la clasificación de imágenes que originalmente eran clasificadas correctamente."
      ],
      "metadata": {
        "id": "WHs0YN4j6z2U"
      }
    },
    {
      "cell_type": "code",
      "source": [
        "!pip install adversarial-robustness-toolbox"
      ],
      "metadata": {
        "colab": {
          "base_uri": "https://localhost:8080/"
        },
        "id": "Qhyy2hoT60Ea",
        "outputId": "f39f1db2-bd13-4c9c-a9f8-90db10daf473"
      },
      "execution_count": 10,
      "outputs": [
        {
          "output_type": "stream",
          "name": "stdout",
          "text": [
            "Collecting adversarial-robustness-toolbox\n",
            "  Downloading adversarial_robustness_toolbox-1.17.1-py3-none-any.whl (1.7 MB)\n",
            "\u001b[2K     \u001b[90m━━━━━━━━━━━━━━━━━━━━━━━━━━━━━━━━━━━━━━━━\u001b[0m \u001b[32m1.7/1.7 MB\u001b[0m \u001b[31m10.9 MB/s\u001b[0m eta \u001b[36m0:00:00\u001b[0m\n",
            "\u001b[?25hRequirement already satisfied: numpy>=1.18.0 in /usr/local/lib/python3.10/dist-packages (from adversarial-robustness-toolbox) (1.25.2)\n",
            "Requirement already satisfied: scipy>=1.4.1 in /usr/local/lib/python3.10/dist-packages (from adversarial-robustness-toolbox) (1.11.4)\n",
            "Requirement already satisfied: scikit-learn>=0.22.2 in /usr/local/lib/python3.10/dist-packages (from adversarial-robustness-toolbox) (1.2.2)\n",
            "Requirement already satisfied: six in /usr/local/lib/python3.10/dist-packages (from adversarial-robustness-toolbox) (1.16.0)\n",
            "Requirement already satisfied: setuptools in /usr/local/lib/python3.10/dist-packages (from adversarial-robustness-toolbox) (67.7.2)\n",
            "Requirement already satisfied: tqdm in /usr/local/lib/python3.10/dist-packages (from adversarial-robustness-toolbox) (4.66.2)\n",
            "Requirement already satisfied: joblib>=1.1.1 in /usr/local/lib/python3.10/dist-packages (from scikit-learn>=0.22.2->adversarial-robustness-toolbox) (1.4.0)\n",
            "Requirement already satisfied: threadpoolctl>=2.0.0 in /usr/local/lib/python3.10/dist-packages (from scikit-learn>=0.22.2->adversarial-robustness-toolbox) (3.5.0)\n",
            "Installing collected packages: adversarial-robustness-toolbox\n",
            "Successfully installed adversarial-robustness-toolbox-1.17.1\n"
          ]
        }
      ]
    },
    {
      "cell_type": "code",
      "source": [
        "# Preparar el generador para los datos de prueba\n",
        "datagen = ImageDataGenerator(rescale=1./255)\n",
        "test_generator = datagen.flow_from_directory(\n",
        "    '/content/drive/MyDrive/malimg_paper_dataset_imgs',  # Asegúrate de actualizar esta ruta\n",
        "    target_size=(64, 64),\n",
        "    batch_size=1,\n",
        "    class_mode='categorical',\n",
        "    shuffle=False)"
      ],
      "metadata": {
        "colab": {
          "base_uri": "https://localhost:8080/"
        },
        "id": "AgF13h61ADKB",
        "outputId": "43bcda61-f8a0-40a3-fc8c-e2aad68ef804"
      },
      "execution_count": 20,
      "outputs": [
        {
          "output_type": "stream",
          "name": "stdout",
          "text": [
            "Found 9339 images belonging to 25 classes.\n"
          ]
        }
      ]
    },
    {
      "cell_type": "markdown",
      "source": [],
      "metadata": {
        "id": "8amYieP0_9Jj"
      }
    },
    {
      "cell_type": "code",
      "source": [
        "import numpy as np\n",
        "from tensorflow.keras.models import load_model\n",
        "from art.attacks.evasion import FastGradientMethod\n",
        "from art.estimators.classification import KerasClassifier\n",
        "from tensorflow.keras.preprocessing.image import ImageDataGenerator\n",
        "\n",
        "# Deshabilitar la ejecución ansiosa\n",
        "tf.compat.v1.disable_eager_execution()\n",
        "\n",
        "# Carga del modelo entrenado\n",
        "model = load_model('malware_classification_model.h5')\n",
        "\n",
        "# Crear un clasificador ART\n",
        "classifier = KerasClassifier(model=model, clip_values=(0, 1))\n",
        "\n",
        "# Instanciar y preparar el ataque FGSM\n",
        "attack = FastGradientMethod(estimator=classifier, eps=0.1)\n",
        "\n",
        "# Generar imágenes adversarias y evaluar\n",
        "x_test_adv = []\n",
        "y_true = []\n",
        "for i in range(len(test_generator)):\n",
        "    x, y = test_generator[i]\n",
        "    x_adv = attack.generate(x=x)\n",
        "    x_test_adv.append(x_adv[0])  # Agregar la imagen adversaria\n",
        "    y_true.append(y[0])          # Agregar la etiqueta verdadera\n",
        "\n",
        "# Convertir listas a Numpy arrays para evaluación\n",
        "x_test_adv = np.array(x_test_adv)\n",
        "y_true = np.array(y_true)\n",
        "\n",
        "# Evaluar el modelo en datos adversarios\n",
        "predictions = model.predict(x_test_adv)\n",
        "accuracy = np.mean(np.argmax(predictions, axis=1) == np.argmax(y_true, axis=1))\n",
        "print(f\"Accuracy en datos adversarios: {accuracy*100:.2f}%\")"
      ],
      "metadata": {
        "colab": {
          "base_uri": "https://localhost:8080/"
        },
        "id": "MSOjNHIY7MFP",
        "outputId": "ce747985-5f87-4a73-aecc-3c72a96a1c7e"
      },
      "execution_count": 13,
      "outputs": [
        {
          "output_type": "stream",
          "name": "stdout",
          "text": [
            "Found 9339 images belonging to 25 classes.\n",
            "Accuracy en datos adversarios: 10.43%\n"
          ]
        }
      ]
    },
    {
      "cell_type": "markdown",
      "source": [
        "## Evaluación del Modelo bajo Ataque Adversario FGSM\n",
        "\n",
        "Tras aplicar el ataque FGSM (Fast Gradient Sign Method) a nuestro modelo de clasificación de malware, observamos una caída dramática en la precisión desde un rendimiento superior al 90% en datos de prueba normales a solo un 10.43% en datos adversarios. Esto resalta una vulnerabilidad significativa del modelo frente a ejemplos adversarios.\n",
        "\n",
        "### Impacto del Ataque\n",
        "\n",
        "El ataque FGSM manipula las entradas originales de manera muy efectiva, introduciendo perturbaciones que son imperceptibles para el ojo humano pero suficientes para engañar al modelo. Esto es indicativo de que el modelo es altamente sensible a pequeñas variaciones en sus entradas.\n",
        "\n",
        "### Implicaciones de Seguridad\n",
        "\n",
        "En el contexto de la seguridad informática, especialmente en la clasificación de malware, este tipo de vulnerabilidad puede permitir que software malicioso evada la detección alterando mínimamente su código o su representación. La robustez del modelo es, por lo tanto, una área crítica que necesita fortalecimiento.\n",
        "\n",
        "### Recomendaciones para Mejorar la Robustez\n",
        "\n",
        "1. **Entrenamiento Adversario**: Incorporar ejemplos adversarios durante el entrenamiento para preparar el modelo contra ataques similares.\n",
        "2. **Regularización**: Aumentar la regularización puede ayudar a hacer el modelo menos propenso a pequeñas perturbaciones en los datos de entrada.\n",
        "3. **Exploración de Modelos Alternativos**: Investigar arquitecturas de modelos que sean conocidas por su robustez frente a ataques adversarios.\n",
        "\n",
        "### Conclusión\n",
        "\n",
        "La capacidad del modelo para manejar ataques adversarios es crucial para su aplicación en entornos de seguridad. Las estrategias de defensa recomendadas deben ser evaluadas y aplicadas para mejorar la confiabilidad del sistema de clasificación de malware."
      ],
      "metadata": {
        "id": "FN_idcxZ82HG"
      }
    },
    {
      "cell_type": "markdown",
      "source": [
        "## Ataque 2: DeepFool\n",
        "\n",
        "### Descripción del Ataque\n",
        "\n",
        "DeepFool es un algoritmo de ataque adversario desarrollado con el objetivo de ser tan eficiente como sea posible en términos de computación y a la vez muy efectivo en encontrar las perturbaciones mínimas necesarias para engañar a los modelos de clasificación. La idea central de DeepFool es calcular iterativamente la perturbación más pequeña que puede engañar al modelo, asumiendo que el modelo es lineal en las proximidades del ejemplo a manipular. DeepFool opera bajo la premisa de que al linearizar el modelo de clasificación, se puede encontrar una forma cerrada para la perturbación óptima que lleva la entrada a cruzar la frontera de decisión del clasificador.\n",
        "\n",
        "### Metodología del Ataque\n",
        "\n",
        "El ataque utiliza un enfoque iterativo para mover la imagen de entrada hacia la frontera de decisión del modelo hasta que esta sea cruzada. En cada iteración, DeepFool calcula la dirección y magnitud de la perturbación necesaria para mover la entrada hacia la frontera, basándose en el gradiente de la función de pérdida del modelo respecto a la entrada. Este proceso se repite hasta que la entrada es clasificada incorrectamente, lo cual generalmente requiere solo unas pocas iteraciones debido a la eficiencia del método.\n",
        "\n",
        "### Resultados Esperados\n",
        "\n",
        "Dado que DeepFool busca la mínima perturbación necesaria, no esperamos ver cambios visuales significativos en las imágenes perturbadas, aunque estas deberían ser suficientes para engañar al modelo. Este tipo de ataque es particularmente útil para evaluar la robustez de modelos en escenarios cercanos a las condiciones ideales de operación, donde pequeñas perturbaciones no son esperadas para cambiar las decisiones del modelo."
      ],
      "metadata": {
        "id": "zBSNdjxUA5Oy"
      }
    },
    {
      "cell_type": "code",
      "source": [
        "from art.estimators.classification import KerasClassifier\n",
        "from art.attacks.evasion import DeepFool\n",
        "\n",
        "model_logits = tf.keras.Model(inputs=model.input, outputs=model.layers[-2].output)\n",
        "\n",
        "# Configurar el clasificador para ART usando Keras\n",
        "classifier = KerasClassifier(model=model_logits, use_logits=True, clip_values=(0, 1))\n",
        "\n",
        "# Configurar y ejecutar el ataque DeepFool\n",
        "attack = DeepFool(classifier=classifier)\n",
        "\n",
        "# Generar ejemplos adversarios\n",
        "x_test, y_test = next(test_generator)\n",
        "x_test_adv = attack.generate(x=x_test)\n",
        "\n",
        "# Evaluar el modelo en datos adversarios\n",
        "predictions = classifier.predict(x_test_adv)\n",
        "accuracy = np.mean(np.argmax(predictions, axis=1) == np.argmax(y_test, axis=1))\n",
        "print(f\"Accuracy en datos adversarios DeepFool: {accuracy*100:.2f}%\")"
      ],
      "metadata": {
        "colab": {
          "base_uri": "https://localhost:8080/",
          "height": 104,
          "referenced_widgets": [
            "4e4527d1a26a45c59c2d921e9e7e8726",
            "da97e97bce9647eb8a334d9e33d6706c",
            "00ae9926ee34491bbbd7075864eb8327",
            "292977d0dbd04752b060ce77c7d61ddd",
            "63e128fc36ef464ca5768c8703359920",
            "0e88f0e3a8b84e15ba9e0de30c41a7ee",
            "5ec5a9ebc5af447b86403e8445ad92f6",
            "b0145432cd1d4b35b8fdb497a6dbe669",
            "7d09f3fc16ff47e1b632c3749f1a57ac",
            "9818834f953a4f64a20ca6f1e402abd8",
            "1b28ba474a3b4b88b260f0a30589012b"
          ]
        },
        "id": "cs_g67oM_t2k",
        "outputId": "21dd5590-c218-4cf1-a8a1-1971591aae13"
      },
      "execution_count": 24,
      "outputs": [
        {
          "output_type": "stream",
          "name": "stderr",
          "text": [
            "WARNING:art.estimators.classification.keras:Keras model has no loss set. Classifier tries to use `k.sparse_categorical_crossentropy`.\n"
          ]
        },
        {
          "output_type": "display_data",
          "data": {
            "text/plain": [
              "DeepFool:   0%|          | 0/1 [00:00<?, ?it/s]"
            ],
            "application/vnd.jupyter.widget-view+json": {
              "version_major": 2,
              "version_minor": 0,
              "model_id": "4e4527d1a26a45c59c2d921e9e7e8726"
            }
          },
          "metadata": {}
        },
        {
          "output_type": "stream",
          "name": "stdout",
          "text": [
            "Accuracy en datos adversarios DeepFool: 0.00%\n"
          ]
        }
      ]
    },
    {
      "cell_type": "markdown",
      "source": [
        "## Resultados del Ataque DeepFool\n",
        "\n",
        "### Evaluación de los Resultados\n",
        "\n",
        "Tras aplicar el ataque DeepFool, observamos una caída dramática en la precisión del modelo a un **0.00%** en los datos adversarios. Esto indica que el ataque fue capaz de modificar todas las imágenes de prueba de manera que el modelo falló en clasificar correctamente cada una de ellas.\n",
        "\n",
        "### Análisis del Ataque\n",
        "\n",
        "DeepFool demostró ser un método de ataque altamente efectivo en nuestro caso, logrando perturbar cada entrada de prueba al punto de ser mal clasificada. Este ataque explota las vulnerabilidades del modelo de manera eficiente, encontrando la mínima perturbación necesaria para inducir errores, lo cual subraya la sensibilidad del modelo a pequeñas variaciones en sus entradas.\n",
        "\n",
        "### Implicaciones de Seguridad\n",
        "\n",
        "1. **Alta Sensibilidad a Perturbaciones**: La eficacia del ataque resalta la alta sensibilidad del modelo a perturbaciones sutiles, lo que podría ser crítico en aplicaciones donde la precisión y la confiabilidad son fundamentales.\n",
        "\n",
        "2. **Necesidad de Robustez Mejorada**: La vulnerabilidad mostrada subraya la importancia de implementar técnicas para aumentar la robustez del modelo, como el entrenamiento adversario, que pueden ayudar a preparar el modelo contra ataques similares.\n",
        "\n",
        "3. **Evaluación y Pruebas Continuas**: Es crucial continuar evaluando y probando los modelos con nuevas y diversas técnicas de ataque para asegurar su robustez y fiabilidad a lo largo del tiempo.\n",
        "\n",
        "### Conclusión\n",
        "\n",
        "Los resultados del ataque DeepFool son un recordatorio poderoso de que la seguridad y la robustez deben ser una prioridad en el desarrollo de modelos de machine learning. Asegurar que los modelos pueden resistir ataques adversarios no solo mejora su eficacia, sino también su confianza y fiabilidad en aplicaciones prácticas. Es imperativo considerar estos aspectos en las etapas tempranas del diseño y desarrollo del modelo."
      ],
      "metadata": {
        "id": "8cdDGo30A7l7"
      }
    }
  ]
}